{
 "cells": [
  {
   "cell_type": "code",
   "execution_count": 2,
   "metadata": {},
   "outputs": [],
   "source": [
    "import pandas as pd\n",
    "import tensorflow as tf\n",
    "import tensorflow_hub as hub\n",
    "import tensorflow_text as text\n",
    "import numpy as np"
   ]
  },
  {
   "cell_type": "code",
   "execution_count": 3,
   "metadata": {},
   "outputs": [],
   "source": [
    "def classNameToLabel(className):\n",
    "    return {\n",
    "        'Loans': 0,\n",
    "        'Credit card': 1,\n",
    "        'Promotion Campaign': 2,\n",
    "        'Account Balance': 3,\n",
    "        'E-banking': 4,\n",
    "        'FX': 5,\n",
    "        'Mortgages': 6,\n",
    "        'Insurance': 7,\n",
    "        'Transfer Services': 8\n",
    "    }[className]"
   ]
  },
  {
   "cell_type": "code",
   "execution_count": 4,
   "metadata": {},
   "outputs": [
    {
     "data": {
      "text/html": [
       "<div>\n",
       "<style scoped>\n",
       "    .dataframe tbody tr th:only-of-type {\n",
       "        vertical-align: middle;\n",
       "    }\n",
       "\n",
       "    .dataframe tbody tr th {\n",
       "        vertical-align: top;\n",
       "    }\n",
       "\n",
       "    .dataframe thead th {\n",
       "        text-align: right;\n",
       "    }\n",
       "</style>\n",
       "<table border=\"1\" class=\"dataframe\">\n",
       "  <thead>\n",
       "    <tr style=\"text-align: right;\">\n",
       "      <th></th>\n",
       "      <th>Class</th>\n",
       "      <th>Script</th>\n",
       "    </tr>\n",
       "  </thead>\n",
       "  <tbody>\n",
       "    <tr>\n",
       "      <th>0</th>\n",
       "      <td>0</td>\n",
       "      <td>點樣決定貸款額</td>\n",
       "    </tr>\n",
       "    <tr>\n",
       "      <th>1</th>\n",
       "      <td>0</td>\n",
       "      <td>有咩唔同還款方式比我揀</td>\n",
       "    </tr>\n",
       "    <tr>\n",
       "      <th>2</th>\n",
       "      <td>0</td>\n",
       "      <td>借貸期啫係咩意思同埋幾長先適合</td>\n",
       "    </tr>\n",
       "    <tr>\n",
       "      <th>3</th>\n",
       "      <td>0</td>\n",
       "      <td>申請貸款要交啲咩文件</td>\n",
       "    </tr>\n",
       "    <tr>\n",
       "      <th>4</th>\n",
       "      <td>0</td>\n",
       "      <td>每個月平息係咩意思</td>\n",
       "    </tr>\n",
       "  </tbody>\n",
       "</table>\n",
       "</div>"
      ],
      "text/plain": [
       "   Class           Script\n",
       "0      0          點樣決定貸款額\n",
       "1      0      有咩唔同還款方式比我揀\n",
       "2      0  借貸期啫係咩意思同埋幾長先適合\n",
       "3      0       申請貸款要交啲咩文件\n",
       "4      0        每個月平息係咩意思"
      ]
     },
     "execution_count": 4,
     "metadata": {},
     "output_type": "execute_result"
    }
   ],
   "source": [
    "df = pd.read_csv('dataset.csv')\n",
    "df['Class'] = df['Class'].apply(classNameToLabel)\n",
    "\n",
    "df.head()"
   ]
  },
  {
   "cell_type": "code",
   "execution_count": 5,
   "metadata": {},
   "outputs": [],
   "source": [
    "from sklearn.model_selection import train_test_split\n",
    "\n",
    "X_train, X_test, y_train, y_test = train_test_split(df['Script'], df['Class'], shuffle=True, stratify=df['Class'])"
   ]
  },
  {
   "cell_type": "code",
   "execution_count": 57,
   "metadata": {},
   "outputs": [],
   "source": [
    "#Bert Layers\n",
    "text_input = tf.keras.layers.Input(shape=(), dtype=tf.string)\n",
    "preprocessor = hub.KerasLayer(\n",
    "    \"https://tfhub.dev/tensorflow/bert_zh_preprocess/3\") \n",
    "encoder = hub.KerasLayer(\n",
    "    \"https://tfhub.dev/tensorflow/bert_zh_L-12_H-768_A-12/4\",\n",
    "    trainable=True)\n",
    "    \n",
    "encoder_inputs = preprocessor(text_input)\n",
    "outputs = encoder(encoder_inputs)\n",
    "pooled_output = outputs[\"pooled_output\"]      # [batch_size, 768].\n",
    "\n",
    "output = tf.keras.layers.Dropout(0.1)(pooled_output)\n",
    "# x = tf.keras.layers.Dense(128, activation='relu')(pooled_output)\n",
    "output = tf.keras.layers.Dense(9, activation='softmax')(output)\n",
    "\n",
    "model = tf.keras.Model(inputs=text_input, outputs=output)"
   ]
  },
  {
   "cell_type": "code",
   "execution_count": 58,
   "metadata": {},
   "outputs": [
    {
     "name": "stdout",
     "output_type": "stream",
     "text": [
      "Model: \"model_2\"\n",
      "__________________________________________________________________________________________________\n",
      " Layer (type)                   Output Shape         Param #     Connected to                     \n",
      "==================================================================================================\n",
      " input_3 (InputLayer)           [(None,)]            0           []                               \n",
      "                                                                                                  \n",
      " keras_layer_4 (KerasLayer)     {'input_word_ids':   0           ['input_3[0][0]']                \n",
      "                                (None, 128),                                                      \n",
      "                                 'input_type_ids':                                                \n",
      "                                (None, 128),                                                      \n",
      "                                 'input_mask': (Non                                               \n",
      "                                e, 128)}                                                          \n",
      "                                                                                                  \n",
      " keras_layer_5 (KerasLayer)     {'pooled_output': (  102267649   ['keras_layer_4[0][0]',          \n",
      "                                None, 768),                       'keras_layer_4[0][1]',          \n",
      "                                 'encoder_outputs':               'keras_layer_4[0][2]']          \n",
      "                                 [(None, 128, 768),                                               \n",
      "                                 (None, 128, 768),                                                \n",
      "                                 (None, 128, 768),                                                \n",
      "                                 (None, 128, 768),                                                \n",
      "                                 (None, 128, 768),                                                \n",
      "                                 (None, 128, 768),                                                \n",
      "                                 (None, 128, 768),                                                \n",
      "                                 (None, 128, 768),                                                \n",
      "                                 (None, 128, 768),                                                \n",
      "                                 (None, 128, 768),                                                \n",
      "                                 (None, 128, 768),                                                \n",
      "                                 (None, 128, 768)],                                               \n",
      "                                 'sequence_output':                                               \n",
      "                                 (None, 128, 768),                                                \n",
      "                                 'default': (None,                                                \n",
      "                                768)}                                                             \n",
      "                                                                                                  \n",
      " dropout_2 (Dropout)            (None, 768)          0           ['keras_layer_5[0][13]']         \n",
      "                                                                                                  \n",
      " dense_2 (Dense)                (None, 9)            6921        ['dropout_2[0][0]']              \n",
      "                                                                                                  \n",
      "==================================================================================================\n",
      "Total params: 102,274,570\n",
      "Trainable params: 102,274,569\n",
      "Non-trainable params: 1\n",
      "__________________________________________________________________________________________________\n"
     ]
    }
   ],
   "source": [
    "model.summary()"
   ]
  },
  {
   "cell_type": "code",
   "execution_count": 59,
   "metadata": {},
   "outputs": [],
   "source": [
    "model.compile(optimizer='adam', loss=tf.keras.losses.SparseCategoricalCrossentropy(),metrics=['accuracy'])"
   ]
  },
  {
   "cell_type": "code",
   "execution_count": 60,
   "metadata": {},
   "outputs": [
    {
     "name": "stdout",
     "output_type": "stream",
     "text": [
      "Epoch 1/10\n",
      "5/5 [==============================] - 166s 16s/step - loss: 3.0425 - accuracy: 0.0850\n",
      "Epoch 2/10\n",
      "5/5 [==============================] - 75s 15s/step - loss: 2.6016 - accuracy: 0.1046\n",
      "Epoch 3/10\n",
      "5/5 [==============================] - 78s 15s/step - loss: 2.4414 - accuracy: 0.1307\n",
      "Epoch 4/10\n",
      "5/5 [==============================] - 79s 16s/step - loss: 2.3392 - accuracy: 0.0915\n",
      "Epoch 5/10\n",
      "5/5 [==============================] - 89s 18s/step - loss: 2.3251 - accuracy: 0.1438\n",
      "Epoch 6/10\n",
      "5/5 [==============================] - 82s 16s/step - loss: 2.4026 - accuracy: 0.1307\n",
      "Epoch 7/10\n",
      "5/5 [==============================] - 81s 16s/step - loss: 2.2976 - accuracy: 0.1438\n",
      "Epoch 8/10\n",
      "5/5 [==============================] - 79s 15s/step - loss: 2.3435 - accuracy: 0.1438\n",
      "Epoch 9/10\n",
      "5/5 [==============================] - 86s 17s/step - loss: 2.2972 - accuracy: 0.0784\n",
      "Epoch 10/10\n",
      "5/5 [==============================] - 85s 17s/step - loss: 2.3145 - accuracy: 0.1242\n"
     ]
    },
    {
     "data": {
      "text/plain": [
       "<keras.callbacks.History at 0x1c5a39a4b20>"
      ]
     },
     "execution_count": 60,
     "metadata": {},
     "output_type": "execute_result"
    }
   ],
   "source": [
    "model.fit(X_train, y_train, epochs=10)"
   ]
  },
  {
   "cell_type": "code",
   "execution_count": 61,
   "metadata": {},
   "outputs": [
    {
     "name": "stdout",
     "output_type": "stream",
     "text": [
      "2/2 - 55s - loss: 2.2027 - accuracy: 0.1569 - 55s/epoch - 27s/step\n",
      "\n",
      "Test accuracy: 0.1568627506494522\n"
     ]
    }
   ],
   "source": [
    "test_loss, test_acc = model.evaluate(X_test,  y_test, verbose=2)\n",
    "\n",
    "print('\\nTest accuracy:', test_acc)"
   ]
  },
  {
   "cell_type": "code",
   "execution_count": 49,
   "metadata": {},
   "outputs": [],
   "source": [
    "p = model.predict(X_train)"
   ]
  },
  {
   "cell_type": "code",
   "execution_count": 62,
   "metadata": {},
   "outputs": [],
   "source": [
    "model.save('nlp.h5')"
   ]
  },
  {
   "cell_type": "code",
   "execution_count": 63,
   "metadata": {},
   "outputs": [],
   "source": [
    "my_reloaded_model = tf.keras.models.load_model(('nlp.h5'),custom_objects={'KerasLayer':hub.KerasLayer},compile=False)"
   ]
  }
 ],
 "metadata": {
  "interpreter": {
   "hash": "ebb34a710b725439af0acd5d9831782597076751fa22170f28c35811fdf906c6"
  },
  "kernelspec": {
   "display_name": "Python 3.9.12 64-bit (windows store)",
   "language": "python",
   "name": "python3"
  },
  "language_info": {
   "codemirror_mode": {
    "name": "ipython",
    "version": 3
   },
   "file_extension": ".py",
   "mimetype": "text/x-python",
   "name": "python",
   "nbconvert_exporter": "python",
   "pygments_lexer": "ipython3",
   "version": "3.9.12"
  },
  "orig_nbformat": 4
 },
 "nbformat": 4,
 "nbformat_minor": 2
}
